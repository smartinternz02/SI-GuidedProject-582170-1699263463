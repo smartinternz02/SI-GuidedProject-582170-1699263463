{
 "cells": [
  {
   "cell_type": "code",
   "execution_count": 6,
   "metadata": {
    "colab": {
     "base_uri": "https://localhost:8080/",
     "height": 1000
    },
    "id": "kyli5_evfg5B",
    "outputId": "c338d5b9-0c5c-4f6d-82fa-a6e9eea93db0"
   },
   "outputs": [
    {
     "name": "stdout",
     "output_type": "stream",
     "text": [
      "Step 1: Data Preprocessing\n",
      "=================================\n",
      "Columns after dropping unnecessary columns:\n",
      "Index(['Age', 'Attrition', 'BusinessTravel', 'DailyRate', 'Department',\n",
      "       'DistanceFromHome', 'Education', 'EducationField',\n",
      "       'EnvironmentSatisfaction', 'Gender', 'HourlyRate', 'JobInvolvement',\n",
      "       'JobLevel', 'JobRole', 'JobSatisfaction', 'MaritalStatus',\n",
      "       'MonthlyIncome', 'MonthlyRate', 'NumCompaniesWorked', 'OverTime',\n",
      "       'PercentSalaryHike', 'PerformanceRating', 'RelationshipSatisfaction',\n",
      "       'StockOptionLevel', 'TotalWorkingYears', 'TrainingTimesLastYear',\n",
      "       'WorkLifeBalance', 'YearsAtCompany', 'YearsInCurrentRole',\n",
      "       'YearsSinceLastPromotion', 'YearsWithCurrManager'],\n",
      "      dtype='object')\n",
      "Columns after one-hot encoding:\n",
      "Index(['Age', 'Attrition', 'DailyRate', 'DistanceFromHome', 'Education',\n",
      "       'EnvironmentSatisfaction', 'HourlyRate', 'JobInvolvement', 'JobLevel',\n",
      "       'JobSatisfaction', 'MonthlyIncome', 'MonthlyRate', 'NumCompaniesWorked',\n",
      "       'OverTime', 'PercentSalaryHike', 'PerformanceRating',\n",
      "       'RelationshipSatisfaction', 'StockOptionLevel', 'TotalWorkingYears',\n",
      "       'TrainingTimesLastYear', 'WorkLifeBalance', 'YearsAtCompany',\n",
      "       'YearsInCurrentRole', 'YearsSinceLastPromotion', 'YearsWithCurrManager',\n",
      "       'BusinessTravel_Travel_Frequently', 'BusinessTravel_Travel_Rarely',\n",
      "       'Department_Research & Development', 'Department_Sales',\n",
      "       'EducationField_Life Sciences', 'EducationField_Marketing',\n",
      "       'EducationField_Medical', 'EducationField_Other',\n",
      "       'EducationField_Technical Degree', 'Gender_Male',\n",
      "       'JobRole_Human Resources', 'JobRole_Laboratory Technician',\n",
      "       'JobRole_Manager', 'JobRole_Manufacturing Director',\n",
      "       'JobRole_Research Director', 'JobRole_Research Scientist',\n",
      "       'JobRole_Sales Executive', 'JobRole_Sales Representative',\n",
      "       'MaritalStatus_Married', 'MaritalStatus_Single'],\n",
      "      dtype='object')\n",
      "\n",
      "Step 2: Data Visualization\n",
      "============================\n"
     ]
    },
    {
     "data": {
      "image/png": "[encoded data removed]",
      "text/plain": [
       "<Figure size 800x600 with 1 Axes>"
      ]
     },
     "metadata": {},
     "output_type": "display_data"
    },
    {
     "name": "stdout",
     "output_type": "stream",
     "text": [
      "\n",
      "Step 3: Build Logistic Regression Model\n",
      "=========================================\n",
      "Accuracy for Logistic Regression: 0.8639455782312925\n",
      "Confusion Matrix for Logistic Regression:\n",
      "[[380   0]\n",
      " [ 60   1]]\n",
      "\n",
      "Step 4: Build Decision Tree Model\n",
      "===================================\n",
      "Accuracy for Decision Tree: 0.780045351473923\n",
      "Confusion Matrix for Decision Tree:\n",
      "[[321  59]\n",
      " [ 38  23]]\n",
      "\n",
      "Step 5: Results\n",
      "================\n",
      "Accuracy for Logistic Regression: 0.8639455782312925\n",
      "Confusion Matrix for Logistic Regression:\n",
      "[[380   0]\n",
      " [ 60   1]]\n",
      "Accuracy for Decision Tree: 0.780045351473923\n",
      "Confusion Matrix for Decision Tree:\n",
      "[[321  59]\n",
      " [ 38  23]]\n"
     ]
    },
    {
     "name": "stderr",
     "output_type": "stream",
     "text": [
      "/usr/local/lib/python3.10/dist-packages/sklearn/linear_model/_logistic.py:458: ConvergenceWarning: lbfgs failed to converge (status=1):\n",
      "STOP: TOTAL NO. of ITERATIONS REACHED LIMIT.\n",
      "\n",
      "Increase the number of iterations (max_iter) or scale the data as shown in:\n",
      "    https://scikit-learn.org/stable/modules/preprocessing.html\n",
      "Please also refer to the documentation for alternative solver options:\n",
      "    https://scikit-learn.org/stable/modules/linear_model.html#logistic-regression\n",
      "  n_iter_i = _check_optimize_result(\n"
     ]
    }
   ],
   "source": [
    "import pandas as pd\n",
    "import numpy as np\n",
    "import matplotlib.pyplot as plt\n",
    "import seaborn as sns\n",
    "from sklearn.model_selection import train_test_split\n",
    "from sklearn.preprocessing import LabelEncoder\n",
    "from sklearn.linear_model import LogisticRegression\n",
    "from sklearn.tree import DecisionTreeClassifier\n",
    "from sklearn.metrics import accuracy_score, confusion_matrix\n",
    "\n",
    "df = pd.read_csv('WA_Fn-UseC_-HR-Employee-Attrition.csv')\n",
    "\n",
    "print(\" Data Preprocessing\")\n",
    "print(\"=================================\")\n",
    "\n",
    "df.drop(['EmployeeCount', 'EmployeeNumber', 'Over18', 'StandardHours'], axis=1, inplace=True)\n",
    "print(\"Columns after dropping unnecessary columns:\")\n",
    "print(df.columns)\n",
    "\n",
    "cleanup_nums = {'Attrition': {'Yes': 1, 'No': 0}, 'OverTime': {'Yes': 1, 'No': 0}}\n",
    "df.replace(cleanup_nums, inplace=True)\n",
    "\n",
    "df = pd.get_dummies(df, drop_first=True)\n",
    "print(\"Columns after one-hot encoding:\")\n",
    "print(df.columns)\n",
    "\n",
    "X = df.drop(['Attrition'], axis=1)\n",
    "y = df['Attrition']\n",
    "\n",
    "X_train, X_test, y_train, y_test = train_test_split(X, y, test_size=0.3, random_state=42)\n",
    "\n",
    "print(\"\\nStep 2: Data Visualization\")\n",
    "print(\"============================\")\n",
    "\n",
    "plt.figure(figsize=(8, 6))\n",
    "sns.countplot(x='Attrition', data=df)\n",
    "plt.title(\"Attrition Count\")\n",
    "plt.show()\n",
    "\n",
    "print(\"\\nStep 3: Build Logistic Regression Model\")\n",
    "print(\"=========================================\")\n",
    "logreg_model = LogisticRegression()\n",
    "logreg_model.fit(X_train, y_train)\n",
    "\n",
    "logreg_pred = logreg_model.predict(X_test)\n",
    "\n",
    "logreg_accuracy = accuracy_score(y_test, logreg_pred)\n",
    "print(\"Accuracy for Logistic Regression:\", logreg_accuracy)\n",
    "\n",
    "logreg_confusion_matrix = confusion_matrix(y_test, logreg_pred)\n",
    "print(\"Confusion Matrix for Logistic Regression:\")\n",
    "print(logreg_confusion_matrix)\n",
    "\n",
    "print(\"\\nStep 4: Build Decision Tree Model\")\n",
    "print(\"===================================\")\n",
    "dt_model = DecisionTreeClassifier()\n",
    "dt_model.fit(X_train, y_train)\n",
    "\n",
    "dt_pred = dt_model.predict(X_test)\n",
    "\n",
    "dt_accuracy = accuracy_score(y_test, dt_pred)\n",
    "print(\"Accuracy for Decision Tree:\", dt_accuracy)\n",
    "\n",
    "dt_confusion_matrix = confusion_matrix(y_test, dt_pred)\n",
    "print(\"Confusion Matrix for Decision Tree:\")\n",
    "print(dt_confusion_matrix)\n",
    "\n",
    "print(\"\\nStep 5: Results\")\n",
    "print(\"================\")\n",
    "print(\"Accuracy for Logistic Regression:\", logreg_accuracy)\n",
    "print(\"Confusion Matrix for Logistic Regression:\")\n",
    "print(logreg_confusion_matrix)\n",
    "print(\"Accuracy for Decision Tree:\", dt_accuracy)\n",
    "print(\"Confusion Matrix for Decision Tree:\")\n",
    "print(dt_confusion_matrix)\n"
   ]
  }
 ],
 "metadata": {
  "colab": {
   "provenance": []
  },
  "kernelspec": {
   "display_name": "Python 3 (ipykernel)",
   "language": "python",
   "name": "python3"
  },
  "language_info": {
   "codemirror_mode": {
    "name": "ipython",
    "version": 3
   },
   "file_extension": ".py",
   "mimetype": "text/x-python",
   "name": "python",
   "nbconvert_exporter": "python",
   "pygments_lexer": "ipython3",
   "version": "3.9.7"
  }
 },
 "nbformat": 4,
 "nbformat_minor": 1
}
